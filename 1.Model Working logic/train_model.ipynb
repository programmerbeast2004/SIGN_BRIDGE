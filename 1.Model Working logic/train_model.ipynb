{
 "cells": [
  {
   "cell_type": "code",
   "execution_count": null,
   "id": "9780c913",
   "metadata": {},
   "outputs": [],
   "source": [
    "import os\n",
    "import cv2\n",
    "import numpy as np\n",
    "from sklearn.model_selection import train_test_split\n",
    "from tensorflow.keras.utils import to_categorical\n",
    "from tensorflow.keras.models import Sequential\n",
    "from tensorflow.keras.layers import Conv2D, MaxPooling2D, Flatten, Dense\n",
    "from tensorflow.keras.optimizers import Adam"
   ]
  },
  {
   "cell_type": "code",
   "execution_count": 4,
   "id": "f8dafa3d",
   "metadata": {},
   "outputs": [],
   "source": [
    "DATASET_DIR = 'dataset'\n",
    "IMG_SIZE = 64"
   ]
  },
  {
   "cell_type": "code",
   "execution_count": 5,
   "id": "49800ded",
   "metadata": {},
   "outputs": [],
   "source": [
    "def load_images_from_folder(folder_path):\n",
    "    images, labels = [], []\n",
    "    class_names = sorted(os.listdir(folder_path))\n",
    "    label_map = {name: idx for idx, name in enumerate(class_names)}\n",
    "\n",
    "    for label in class_names:\n",
    "        class_folder = os.path.join(folder_path, label)\n",
    "        if not os.path.isdir(class_folder):\n",
    "            continue\n",
    "        for file in os.listdir(class_folder):\n",
    "            img_path = os.path.join(class_folder, file)\n",
    "            try:\n",
    "                img = cv2.imread(img_path, cv2.IMREAD_GRAYSCALE)\n",
    "                img = cv2.resize(img, (IMG_SIZE, IMG_SIZE))\n",
    "                images.append(img)\n",
    "                labels.append(label_map[label])\n",
    "            except:\n",
    "                print(f\"Error reading: {img_path}\")\n",
    "\n",
    "    return np.array(images), np.array(labels), label_map\n"
   ]
  },
  {
   "cell_type": "code",
   "execution_count": 6,
   "id": "9654f733",
   "metadata": {},
   "outputs": [],
   "source": [
    "X, y, label_map = load_images_from_folder(DATASET_DIR)\n"
   ]
  },
  {
   "cell_type": "code",
   "execution_count": 7,
   "id": "8c5d1adb",
   "metadata": {},
   "outputs": [],
   "source": [
    "X = X / 255.0\n",
    "X = X.reshape(-1, IMG_SIZE, IMG_SIZE, 1)\n",
    "y_cat = to_categorical(y)"
   ]
  },
  {
   "cell_type": "code",
   "execution_count": 8,
   "id": "14a94d40",
   "metadata": {},
   "outputs": [],
   "source": [
    "X_train, X_val, y_train, y_val = train_test_split(X, y_cat, test_size=0.2)\n"
   ]
  },
  {
   "cell_type": "code",
   "execution_count": 9,
   "id": "2518890b",
   "metadata": {},
   "outputs": [
    {
     "name": "stdout",
     "output_type": "stream",
     "text": [
      "WARNING:tensorflow:From c:\\Users\\prvme\\AppData\\Local\\Programs\\Python\\Python310\\lib\\site-packages\\keras\\src\\backend.py:873: The name tf.get_default_graph is deprecated. Please use tf.compat.v1.get_default_graph instead.\n",
      "\n",
      "WARNING:tensorflow:From c:\\Users\\prvme\\AppData\\Local\\Programs\\Python\\Python310\\lib\\site-packages\\keras\\src\\layers\\pooling\\max_pooling2d.py:161: The name tf.nn.max_pool is deprecated. Please use tf.nn.max_pool2d instead.\n",
      "\n",
      "Epoch 1/10\n",
      "WARNING:tensorflow:From c:\\Users\\prvme\\AppData\\Local\\Programs\\Python\\Python310\\lib\\site-packages\\keras\\src\\utils\\tf_utils.py:492: The name tf.ragged.RaggedTensorValue is deprecated. Please use tf.compat.v1.ragged.RaggedTensorValue instead.\n",
      "\n",
      "WARNING:tensorflow:From c:\\Users\\prvme\\AppData\\Local\\Programs\\Python\\Python310\\lib\\site-packages\\keras\\src\\engine\\base_layer_utils.py:384: The name tf.executing_eagerly_outside_functions is deprecated. Please use tf.compat.v1.executing_eagerly_outside_functions instead.\n",
      "\n",
      "2190/2190 [==============================] - 71s 31ms/step - loss: 1.0811 - accuracy: 0.6780 - val_loss: 0.2678 - val_accuracy: 0.9222\n",
      "Epoch 2/10\n",
      "2190/2190 [==============================] - 69s 31ms/step - loss: 0.1986 - accuracy: 0.9362 - val_loss: 0.1226 - val_accuracy: 0.9626\n",
      "Epoch 3/10\n",
      "2190/2190 [==============================] - 68s 31ms/step - loss: 0.1065 - accuracy: 0.9660 - val_loss: 0.1005 - val_accuracy: 0.9688\n",
      "Epoch 4/10\n",
      "2190/2190 [==============================] - 67s 31ms/step - loss: 0.0697 - accuracy: 0.9784 - val_loss: 0.0737 - val_accuracy: 0.9751\n",
      "Epoch 5/10\n",
      "2190/2190 [==============================] - 68s 31ms/step - loss: 0.0555 - accuracy: 0.9824 - val_loss: 0.0998 - val_accuracy: 0.9753\n",
      "Epoch 6/10\n",
      "2190/2190 [==============================] - 68s 31ms/step - loss: 0.0475 - accuracy: 0.9859 - val_loss: 0.0660 - val_accuracy: 0.9801\n",
      "Epoch 7/10\n",
      "2190/2190 [==============================] - 68s 31ms/step - loss: 0.0332 - accuracy: 0.9903 - val_loss: 0.0608 - val_accuracy: 0.9841\n",
      "Epoch 8/10\n",
      "2190/2190 [==============================] - 68s 31ms/step - loss: 0.0373 - accuracy: 0.9894 - val_loss: 0.0405 - val_accuracy: 0.9888\n",
      "Epoch 9/10\n",
      "2190/2190 [==============================] - 69s 32ms/step - loss: 0.0279 - accuracy: 0.9918 - val_loss: 0.0341 - val_accuracy: 0.9902\n",
      "Epoch 10/10\n",
      "2190/2190 [==============================] - 68s 31ms/step - loss: 0.0240 - accuracy: 0.9929 - val_loss: 0.0368 - val_accuracy: 0.9890\n"
     ]
    },
    {
     "name": "stderr",
     "output_type": "stream",
     "text": [
      "c:\\Users\\prvme\\AppData\\Local\\Programs\\Python\\Python310\\lib\\site-packages\\keras\\src\\engine\\training.py:3103: UserWarning: You are saving your model as an HDF5 file via `model.save()`. This file format is considered legacy. We recommend using instead the native Keras format, e.g. `model.save('my_model.keras')`.\n",
      "  saving_api.save_model(\n"
     ]
    }
   ],
   "source": [
    "model = Sequential([\n",
    "    Conv2D(32, (3,3), activation='relu', input_shape=(IMG_SIZE, IMG_SIZE, 1)),\n",
    "    MaxPooling2D(2,2),\n",
    "    Conv2D(64, (3,3), activation='relu'),\n",
    "    MaxPooling2D(2,2),\n",
    "    Flatten(),\n",
    "    Dense(128, activation='relu'),\n",
    "    Dense(len(label_map), activation='softmax')\n",
    "])\n",
    "\n",
    "model.compile(optimizer=Adam(), loss='categorical_crossentropy', metrics=['accuracy'])\n",
    "model.fit(X_train, y_train, validation_data=(X_val, y_val), epochs=10)\n",
    "\n",
    "# Save model & label map\n",
    "model.save('model/sign_model.h5')\n",
    "np.save('model/label_map.npy', label_map)\n",
    "\n"
   ]
  }
 ],
 "metadata": {
  "kernelspec": {
   "display_name": "Python 3",
   "language": "python",
   "name": "python3"
  },
  "language_info": {
   "codemirror_mode": {
    "name": "ipython",
    "version": 3
   },
   "file_extension": ".py",
   "mimetype": "text/x-python",
   "name": "python",
   "nbconvert_exporter": "python",
   "pygments_lexer": "ipython3",
   "version": "3.10.11"
  }
 },
 "nbformat": 4,
 "nbformat_minor": 5
}
